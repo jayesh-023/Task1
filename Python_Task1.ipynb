{
 "cells": [
  {
   "cell_type": "markdown",
   "metadata": {},
   "source": [
    "## Q1. Create a function which will take a list as an argument and return the product of all the numbers after creating a flat list.\n",
    "## Use the below-given list as an argument for your function.\n",
    "## list1 = [1,2,3,4, [44,55,66, True], False, (34,56,78,89,34), {1,2,3,3,2,1}, {1:34, \"key2\": [55, 67, 78, 89], 4: (45, 22, 61, 34)}, [56, 'data science'], 'Machine Learning']\n",
    "## Note: you must extract numeric keys and values of the dictionary also."
   ]
  },
  {
   "cell_type": "code",
   "execution_count": 16,
   "metadata": {},
   "outputs": [
    {
     "name": "stdout",
     "output_type": "stream",
     "text": [
      "1\n",
      "2\n",
      "3\n",
      "4\n",
      "44\n",
      "55\n",
      "66\n",
      "34\n",
      "56\n",
      "78\n",
      "89\n",
      "34\n",
      "1\n",
      "2\n",
      "3\n",
      "1\n",
      "4\n",
      "56\n",
      "[1, 2, 3, 4, 44, 55, 66, True, False, 34, 56, 78, 89, 34, 1, 2, 3, 1, 'key2', 4, 56, 'data science', 'Machine Learning']\n",
      "2315262738624675840\n"
     ]
    }
   ],
   "source": [
    "list1 = [1,2,3,4, [44,55,66, True], False, (34,56,78,89,34), {1,2,3,3,2,1}, {1:34, \"key2\": [55, 67, 78, 89], 4: (45,\n",
    "22, 61, 34)}, [56, 'data science'], 'Machine Learning']\n",
    "\n",
    "def product(l):\n",
    "    flat_list = []\n",
    "    def flatten(x):\n",
    "        \n",
    "        for a in x:\n",
    "            if isinstance(a,(list,set,tuple)):\n",
    "                flatten(a)\n",
    "            elif isinstance(a,dict):\n",
    "                flatten(a)\n",
    "            else:\n",
    "                flat_list.append(a)\n",
    "            \n",
    "    flatten(l)\n",
    "    p = 1\n",
    "    for i in flat_list:\n",
    "        if(isinstance(i,(int, float)) and not isinstance(i,bool)):\n",
    "            p *= i\n",
    "            print(i)\n",
    "    print(flat_list)\n",
    "    \n",
    "    return p\n",
    "\n",
    "p = product(list1)\n",
    "print(p)\n",
    "\n"
   ]
  },
  {
   "cell_type": "markdown",
   "metadata": {},
   "source": [
    "## Q2. Write a python program for encrypting a message sent to you by your friend. The logic of encryption should be such that, for a the output should be z. For b, the output should be y. For c, the output should be x respectively. Also, the whitespace should be replaced with a dollar sign. Keep the punctuation marks unchanged.\n",
    "## Input Sentence: I want to become a Data Scientist.\n",
    "## Encrypt the above input sentence using the program you just created.\n",
    "## Note: Convert the given input sentence into lowercase before encrypting. The final output should be lowercase."
   ]
  },
  {
   "cell_type": "code",
   "execution_count": 25,
   "metadata": {},
   "outputs": [
    {
     "name": "stdout",
     "output_type": "stream",
     "text": [
      "i$wznt$to$yexome$z$dztz$sxientist.\n"
     ]
    }
   ],
   "source": [
    "s = \"I want to become a Data Scientist.\"\n",
    "\n",
    "def encrypt(x):\n",
    "    a = \"\"\n",
    "    for i in x:\n",
    "        if(i=='a'):\n",
    "            i = 'z'\n",
    "        if(i=='b'):\n",
    "            i = 'y' \n",
    "        if(i=='c'):\n",
    "            i = 'x' \n",
    "        if(i==' '):\n",
    "            i = '$'\n",
    "        a = a + i.lower()\n",
    "    print(a)\n",
    "    \n",
    "encrypt(s)"
   ]
  }
 ],
 "metadata": {
  "language_info": {
   "name": "python"
  }
 },
 "nbformat": 4,
 "nbformat_minor": 2
}
